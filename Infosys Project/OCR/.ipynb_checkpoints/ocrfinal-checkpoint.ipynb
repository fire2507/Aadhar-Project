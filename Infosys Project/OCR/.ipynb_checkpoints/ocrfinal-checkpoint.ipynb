{
 "cells": [
  {
   "cell_type": "code",
   "execution_count": 1,
   "id": "b094a347",
   "metadata": {},
   "outputs": [
    {
     "name": "stderr",
     "output_type": "stream",
     "text": [
      "C:\\Users\\user\\anaconda3\\Lib\\site-packages\\paramiko\\transport.py:219: CryptographyDeprecationWarning: Blowfish has been deprecated\n",
      "  \"class\": algorithms.Blowfish,\n",
      "Neither CUDA nor MPS are available - defaulting to CPU. Note: This module is much faster with a GPU.\n"
     ]
    },
    {
     "name": "stdout",
     "output_type": "stream",
     "text": [
      "\n",
      "image 1/1 C:\\Users\\user\\Downloads\\documents\\SR1.jpg: 448x640 1 name, 1 uid, 261.3ms\n",
      "Speed: 2.0ms preprocess, 261.3ms inference, 2.0ms postprocess per image at shape (1, 3, 448, 640)\n",
      "Extracted Data: {'name': 'Nitish Kumar Sharma', 'uid': '4248 3181 5688'}\n"
     ]
    }
   ],
   "source": [
    "from ultralytics import YOLO\n",
    "import easyocr\n",
    "import cv2\n",
    "import os\n",
    "\n",
    "# Load models\n",
    "model = YOLO(r'C:\\\\Users\\\\user\\\\Desktop\\\\Infosys Project\\\\Detection Model\\\\runs\\\\detect\\\\train2\\\\weights\\\\best.pt')\n",
    "reader = easyocr.Reader(['en'])\n",
    "\n",
    "# Image path\n",
    "image_path = r'C:\\\\Users\\\\user\\\\Downloads\\\\documents\\\\SR1.jpg'\n",
    "results = model(image_path)\n",
    "image = cv2.imread(image_path)\n",
    "extracted_data = {}\n",
    "\n",
    "for result in results[0].boxes.data.tolist():  # Bounding box details\n",
    "    x1, y1, x2, y2, confidence, class_id = map(int, result[:6])\n",
    "    field_class = model.names[class_id]  # Get class name ('name', 'uid', 'address')\n",
    "\n",
    "    # Crop detected region\n",
    "    cropped_roi = image[y1:y2, x1:x2]\n",
    "    \n",
    "    # Debugging: Save cropped image\n",
    "    os.makedirs(\"debug_crops\", exist_ok=True)\n",
    "    cv2.imwrite(f\"debug_crops/{field_class}.jpg\", cropped_roi)\n",
    "    \n",
    "    # Preprocess cropped image for OCR\n",
    "    gray_roi = cv2.cvtColor(cropped_roi, cv2.COLOR_BGR2GRAY)\n",
    "    _, thresh_roi = cv2.threshold(gray_roi, 128, 255, cv2.THRESH_BINARY + cv2.THRESH_OTSU)\n",
    "\n",
    "    # Extract text using EasyOCR\n",
    "    results = reader.readtext(thresh_roi, detail=1)\n",
    "    filtered_text = [r[1] for r in results if r[2] > 0.5]  # Confidence > 50%\n",
    "    extracted_data[field_class] = ' '.join(filtered_text)\n",
    "\n",
    "# Print extracted data\n",
    "print(\"Extracted Data:\", extracted_data)\n"
   ]
  },
  {
   "cell_type": "code",
   "execution_count": null,
   "id": "4fdb7860",
   "metadata": {},
   "outputs": [],
   "source": []
  }
 ],
 "metadata": {
  "kernelspec": {
   "display_name": "Python 3 (ipykernel)",
   "language": "python",
   "name": "python3"
  },
  "language_info": {
   "codemirror_mode": {
    "name": "ipython",
    "version": 3
   },
   "file_extension": ".py",
   "mimetype": "text/x-python",
   "name": "python",
   "nbconvert_exporter": "python",
   "pygments_lexer": "ipython3",
   "version": "3.11.5"
  }
 },
 "nbformat": 4,
 "nbformat_minor": 5
}
